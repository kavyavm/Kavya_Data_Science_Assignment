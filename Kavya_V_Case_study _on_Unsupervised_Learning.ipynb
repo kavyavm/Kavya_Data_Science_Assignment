{
 "cells": [
  {
   "cell_type": "markdown",
   "id": "21589bb1",
   "metadata": {},
   "source": [
    "### Try out different clustering models in the given dataset. Find the optimum number of clusters in each model and create the model with optimum number of clusters. Also learn about dB scan clustering and implement it."
   ]
  },
  {
   "cell_type": "code",
   "execution_count": 103,
   "id": "f21a1717",
   "metadata": {},
   "outputs": [],
   "source": [
    "#Importing necessary libraries\n",
    "\n",
    "import numpy as np\n",
    "import pandas as pd\n",
    "import matplotlib.pyplot as plt\n",
    "import seaborn as sns"
   ]
  },
  {
   "cell_type": "code",
   "execution_count": 104,
   "id": "1cd0d13a",
   "metadata": {},
   "outputs": [],
   "source": [
    "# Loading data to python environment \n",
    "\n",
    "data = pd.read_csv(\"Wine_clust.csv\")"
   ]
  },
  {
   "cell_type": "code",
   "execution_count": 105,
   "id": "3e126c8a",
   "metadata": {},
   "outputs": [
    {
     "data": {
      "text/plain": [
       "(178, 13)"
      ]
     },
     "execution_count": 105,
     "metadata": {},
     "output_type": "execute_result"
    }
   ],
   "source": [
    "# Determining number of rows and columns of data\n",
    "\n",
    "data.shape"
   ]
  },
  {
   "cell_type": "code",
   "execution_count": 106,
   "id": "3f093a97",
   "metadata": {},
   "outputs": [
    {
     "data": {
      "text/html": [
       "<div>\n",
       "<style scoped>\n",
       "    .dataframe tbody tr th:only-of-type {\n",
       "        vertical-align: middle;\n",
       "    }\n",
       "\n",
       "    .dataframe tbody tr th {\n",
       "        vertical-align: top;\n",
       "    }\n",
       "\n",
       "    .dataframe thead th {\n",
       "        text-align: right;\n",
       "    }\n",
       "</style>\n",
       "<table border=\"1\" class=\"dataframe\">\n",
       "  <thead>\n",
       "    <tr style=\"text-align: right;\">\n",
       "      <th></th>\n",
       "      <th>Alcohol</th>\n",
       "      <th>Malic_Acid</th>\n",
       "      <th>Ash</th>\n",
       "      <th>Ash_Alcanity</th>\n",
       "      <th>Magnesium</th>\n",
       "      <th>Total_Phenols</th>\n",
       "      <th>Flavanoids</th>\n",
       "      <th>Nonflavanoid_Phenols</th>\n",
       "      <th>Proanthocyanins</th>\n",
       "      <th>Color_Intensity</th>\n",
       "      <th>Hue</th>\n",
       "      <th>OD280</th>\n",
       "      <th>Proline</th>\n",
       "    </tr>\n",
       "  </thead>\n",
       "  <tbody>\n",
       "    <tr>\n",
       "      <th>0</th>\n",
       "      <td>14.23</td>\n",
       "      <td>1.71</td>\n",
       "      <td>2.43</td>\n",
       "      <td>15.6</td>\n",
       "      <td>127</td>\n",
       "      <td>2.80</td>\n",
       "      <td>3.06</td>\n",
       "      <td>0.28</td>\n",
       "      <td>2.29</td>\n",
       "      <td>5.64</td>\n",
       "      <td>1.04</td>\n",
       "      <td>3.92</td>\n",
       "      <td>1065</td>\n",
       "    </tr>\n",
       "    <tr>\n",
       "      <th>1</th>\n",
       "      <td>13.20</td>\n",
       "      <td>1.78</td>\n",
       "      <td>2.14</td>\n",
       "      <td>11.2</td>\n",
       "      <td>100</td>\n",
       "      <td>2.65</td>\n",
       "      <td>2.76</td>\n",
       "      <td>0.26</td>\n",
       "      <td>1.28</td>\n",
       "      <td>4.38</td>\n",
       "      <td>1.05</td>\n",
       "      <td>3.40</td>\n",
       "      <td>1050</td>\n",
       "    </tr>\n",
       "    <tr>\n",
       "      <th>2</th>\n",
       "      <td>13.16</td>\n",
       "      <td>2.36</td>\n",
       "      <td>2.67</td>\n",
       "      <td>18.6</td>\n",
       "      <td>101</td>\n",
       "      <td>2.80</td>\n",
       "      <td>3.24</td>\n",
       "      <td>0.30</td>\n",
       "      <td>2.81</td>\n",
       "      <td>5.68</td>\n",
       "      <td>1.03</td>\n",
       "      <td>3.17</td>\n",
       "      <td>1185</td>\n",
       "    </tr>\n",
       "    <tr>\n",
       "      <th>3</th>\n",
       "      <td>14.37</td>\n",
       "      <td>1.95</td>\n",
       "      <td>2.50</td>\n",
       "      <td>16.8</td>\n",
       "      <td>113</td>\n",
       "      <td>3.85</td>\n",
       "      <td>3.49</td>\n",
       "      <td>0.24</td>\n",
       "      <td>2.18</td>\n",
       "      <td>7.80</td>\n",
       "      <td>0.86</td>\n",
       "      <td>3.45</td>\n",
       "      <td>1480</td>\n",
       "    </tr>\n",
       "    <tr>\n",
       "      <th>4</th>\n",
       "      <td>13.24</td>\n",
       "      <td>2.59</td>\n",
       "      <td>2.87</td>\n",
       "      <td>21.0</td>\n",
       "      <td>118</td>\n",
       "      <td>2.80</td>\n",
       "      <td>2.69</td>\n",
       "      <td>0.39</td>\n",
       "      <td>1.82</td>\n",
       "      <td>4.32</td>\n",
       "      <td>1.04</td>\n",
       "      <td>2.93</td>\n",
       "      <td>735</td>\n",
       "    </tr>\n",
       "  </tbody>\n",
       "</table>\n",
       "</div>"
      ],
      "text/plain": [
       "   Alcohol  Malic_Acid   Ash  Ash_Alcanity  Magnesium  Total_Phenols  \\\n",
       "0    14.23        1.71  2.43          15.6        127           2.80   \n",
       "1    13.20        1.78  2.14          11.2        100           2.65   \n",
       "2    13.16        2.36  2.67          18.6        101           2.80   \n",
       "3    14.37        1.95  2.50          16.8        113           3.85   \n",
       "4    13.24        2.59  2.87          21.0        118           2.80   \n",
       "\n",
       "   Flavanoids  Nonflavanoid_Phenols  Proanthocyanins  Color_Intensity   Hue  \\\n",
       "0        3.06                  0.28             2.29             5.64  1.04   \n",
       "1        2.76                  0.26             1.28             4.38  1.05   \n",
       "2        3.24                  0.30             2.81             5.68  1.03   \n",
       "3        3.49                  0.24             2.18             7.80  0.86   \n",
       "4        2.69                  0.39             1.82             4.32  1.04   \n",
       "\n",
       "   OD280  Proline  \n",
       "0   3.92     1065  \n",
       "1   3.40     1050  \n",
       "2   3.17     1185  \n",
       "3   3.45     1480  \n",
       "4   2.93      735  "
      ]
     },
     "execution_count": 106,
     "metadata": {},
     "output_type": "execute_result"
    }
   ],
   "source": [
    "# Displaying first five rows of data\n",
    "\n",
    "data.head()"
   ]
  },
  {
   "cell_type": "code",
   "execution_count": 107,
   "id": "78df904b",
   "metadata": {},
   "outputs": [
    {
     "data": {
      "text/plain": [
       "Alcohol                 0\n",
       "Malic_Acid              0\n",
       "Ash                     0\n",
       "Ash_Alcanity            0\n",
       "Magnesium               0\n",
       "Total_Phenols           0\n",
       "Flavanoids              0\n",
       "Nonflavanoid_Phenols    0\n",
       "Proanthocyanins         0\n",
       "Color_Intensity         0\n",
       "Hue                     0\n",
       "OD280                   0\n",
       "Proline                 0\n",
       "dtype: int64"
      ]
     },
     "execution_count": 107,
     "metadata": {},
     "output_type": "execute_result"
    }
   ],
   "source": [
    "# Checking if any null values are present in data\n",
    "\n",
    "data.isna().sum()"
   ]
  },
  {
   "cell_type": "markdown",
   "id": "bcf178fa",
   "metadata": {},
   "source": [
    "#### There are no missing values in data"
   ]
  },
  {
   "cell_type": "code",
   "execution_count": 108,
   "id": "eaf2463b",
   "metadata": {},
   "outputs": [
    {
     "data": {
      "text/plain": [
       "Index(['Alcohol', 'Malic_Acid', 'Ash', 'Ash_Alcanity', 'Magnesium',\n",
       "       'Total_Phenols', 'Flavanoids', 'Nonflavanoid_Phenols',\n",
       "       'Proanthocyanins', 'Color_Intensity', 'Hue', 'OD280', 'Proline'],\n",
       "      dtype='object')"
      ]
     },
     "execution_count": 108,
     "metadata": {},
     "output_type": "execute_result"
    }
   ],
   "source": [
    "data.columns"
   ]
  },
  {
   "cell_type": "markdown",
   "id": "7db7184e",
   "metadata": {},
   "source": [
    "### Outlier Detection"
   ]
  },
  {
   "cell_type": "code",
   "execution_count": 109,
   "id": "acd80e15",
   "metadata": {},
   "outputs": [
    {
     "data": {
      "image/png": "[encoded data removed]",
      "text/plain": [
       "<Figure size 640x480 with 1 Axes>"
      ]
     },
     "metadata": {},
     "output_type": "display_data"
    }
   ],
   "source": [
    "# Detecting outliers in Malic_Acid column using IQR method\n",
    "plt.boxplot(data['Malic_Acid'])\n",
    "plt.title('Boxplot of Malic_Acid column')\n",
    "plt.show()"
   ]
  },
  {
   "cell_type": "code",
   "execution_count": 110,
   "id": "98920432",
   "metadata": {},
   "outputs": [
    {
     "name": "stdout",
     "output_type": "stream",
     "text": [
      "1.605\n",
      "1.8650000000000002\n",
      "3.065\n"
     ]
    }
   ],
   "source": [
    "Q1=np.percentile(data['Malic_Acid'],25,interpolation='midpoint')\n",
    "Q2=np.percentile(data['Malic_Acid'],50,interpolation='midpoint')\n",
    "Q3=np.percentile(data['Malic_Acid'],75,interpolation='midpoint')\n",
    "print(Q1)\n",
    "print(Q2)\n",
    "print(Q3)"
   ]
  },
  {
   "cell_type": "code",
   "execution_count": 111,
   "id": "3ef8052b",
   "metadata": {},
   "outputs": [
    {
     "name": "stdout",
     "output_type": "stream",
     "text": [
      "1.46\n",
      "-0.585\n",
      "5.255\n"
     ]
    }
   ],
   "source": [
    "IQR=Q3-Q1\n",
    "print(IQR)\n",
    "low_limit = Q1 - 1.5*IQR\n",
    "up_limit = Q3 + 1.5*IQR\n",
    "print(low_limit)\n",
    "print(up_limit)"
   ]
  },
  {
   "cell_type": "code",
   "execution_count": 112,
   "id": "f4d66533",
   "metadata": {},
   "outputs": [],
   "source": [
    "outlier = []\n",
    "for x in data['Malic_Acid']:\n",
    "    if((x>up_limit) or (x<low_limit)):\n",
    "        outlier.append(x)"
   ]
  },
  {
   "cell_type": "code",
   "execution_count": 113,
   "id": "8136fc95",
   "metadata": {},
   "outputs": [
    {
     "name": "stdout",
     "output_type": "stream",
     "text": [
      "Int64Index([123, 137, 173], dtype='int64')\n"
     ]
    }
   ],
   "source": [
    "# Finding the index of outliers\n",
    "ind2 =data[(data[\"Malic_Acid\"] > up_limit)|(data[\"Malic_Acid\"] < low_limit)].index \n",
    "print(ind2)\n",
    "# droping outlier values\n",
    "data.drop(ind2, inplace=True)"
   ]
  },
  {
   "cell_type": "code",
   "execution_count": 114,
   "id": "9f5c99a4",
   "metadata": {},
   "outputs": [
    {
     "data": {
      "image/png": "[encoded data removed]",
      "text/plain": [
       "<Figure size 640x480 with 1 Axes>"
      ]
     },
     "metadata": {},
     "output_type": "display_data"
    }
   ],
   "source": [
    "# Detecting outliers in Ash column using IQR method\n",
    "plt.boxplot(data['Ash'])\n",
    "plt.title('Boxplot of Ash column')\n",
    "plt.show()"
   ]
  },
  {
   "cell_type": "code",
   "execution_count": 115,
   "id": "05e72d25",
   "metadata": {},
   "outputs": [
    {
     "name": "stdout",
     "output_type": "stream",
     "text": [
      "2.21\n",
      "2.36\n",
      "2.5549999999999997\n"
     ]
    }
   ],
   "source": [
    "Q1=np.percentile(data['Ash'],25,interpolation='midpoint')\n",
    "Q2=np.percentile(data['Ash'],50,interpolation='midpoint')\n",
    "Q3=np.percentile(data['Ash'],75,interpolation='midpoint')\n",
    "print(Q1)\n",
    "print(Q2)\n",
    "print(Q3)"
   ]
  },
  {
   "cell_type": "code",
   "execution_count": 116,
   "id": "659fed67",
   "metadata": {},
   "outputs": [
    {
     "name": "stdout",
     "output_type": "stream",
     "text": [
      "0.34499999999999975\n",
      "1.6925000000000003\n",
      "3.0724999999999993\n"
     ]
    }
   ],
   "source": [
    "IQR=Q3-Q1\n",
    "print(IQR)\n",
    "low_limit = Q1 - 1.5*IQR\n",
    "up_limit = Q3 + 1.5*IQR\n",
    "print(low_limit)\n",
    "print(up_limit)"
   ]
  },
  {
   "cell_type": "code",
   "execution_count": 117,
   "id": "8e3bd28f",
   "metadata": {},
   "outputs": [],
   "source": [
    "outlier = []\n",
    "for x in data['Ash']:\n",
    "    if((x>up_limit) or (x<low_limit)):\n",
    "        outlier.append(x)"
   ]
  },
  {
   "cell_type": "code",
   "execution_count": 118,
   "id": "03d99a35",
   "metadata": {},
   "outputs": [
    {
     "name": "stdout",
     "output_type": "stream",
     "text": [
      "Int64Index([25, 59, 121], dtype='int64')\n"
     ]
    }
   ],
   "source": [
    "# Finding the index of outliers\n",
    "ind3 =data[(data[\"Ash\"] > up_limit)|(data[\"Ash\"] < low_limit)].index \n",
    "print(ind3)\n",
    "# droping outlier values\n",
    "data.drop(ind3, inplace=True)"
   ]
  },
  {
   "cell_type": "code",
   "execution_count": 119,
   "id": "8c82adf5",
   "metadata": {},
   "outputs": [
    {
     "data": {
      "image/png": "[encoded data removed]",
      "text/plain": [
       "<Figure size 640x480 with 1 Axes>"
      ]
     },
     "metadata": {},
     "output_type": "display_data"
    }
   ],
   "source": [
    "# Detecting outliers in Ash_Alcanity column using IQR method\n",
    "plt.boxplot(data['Ash_Alcanity'])\n",
    "plt.title('Boxplot of Ash_Alcanity column')\n",
    "plt.show()"
   ]
  },
  {
   "cell_type": "code",
   "execution_count": 120,
   "id": "2ea96c53",
   "metadata": {},
   "outputs": [
    {
     "name": "stdout",
     "output_type": "stream",
     "text": [
      "17.15\n",
      "19.25\n",
      "21.5\n"
     ]
    }
   ],
   "source": [
    "Q1=np.percentile(data['Ash_Alcanity'],25,interpolation='midpoint')\n",
    "Q2=np.percentile(data['Ash_Alcanity'],50,interpolation='midpoint')\n",
    "Q3=np.percentile(data['Ash_Alcanity'],75,interpolation='midpoint')\n",
    "print(Q1)\n",
    "print(Q2)\n",
    "print(Q3)"
   ]
  },
  {
   "cell_type": "code",
   "execution_count": 121,
   "id": "2abcbaec",
   "metadata": {},
   "outputs": [
    {
     "name": "stdout",
     "output_type": "stream",
     "text": [
      "4.350000000000001\n",
      "10.624999999999996\n",
      "28.025000000000002\n"
     ]
    }
   ],
   "source": [
    "IQR=Q3-Q1\n",
    "print(IQR)\n",
    "low_limit = Q1 - 1.5*IQR\n",
    "up_limit = Q3 + 1.5*IQR\n",
    "print(low_limit)\n",
    "print(up_limit)"
   ]
  },
  {
   "cell_type": "code",
   "execution_count": 122,
   "id": "c2c1a16f",
   "metadata": {},
   "outputs": [],
   "source": [
    "outlier = []\n",
    "for x in data['Ash_Alcanity']:\n",
    "    if((x>up_limit) or (x<low_limit)):\n",
    "        outlier.append(x)"
   ]
  },
  {
   "cell_type": "code",
   "execution_count": 123,
   "id": "b52bd23f",
   "metadata": {},
   "outputs": [
    {
     "name": "stdout",
     "output_type": "stream",
     "text": [
      "Int64Index([73, 127], dtype='int64')\n"
     ]
    }
   ],
   "source": [
    "# Finding the index of outliers\n",
    "ind4 =data[(data[\"Ash_Alcanity\"] > up_limit)|(data[\"Ash_Alcanity\"] < low_limit)].index \n",
    "print(ind4)\n",
    "# droping outlier values\n",
    "data.drop(ind4, inplace=True)"
   ]
  },
  {
   "cell_type": "code",
   "execution_count": 124,
   "id": "fad2ae1e",
   "metadata": {},
   "outputs": [
    {
     "data": {
      "image/png": "[encoded data removed]",
      "text/plain": [
       "<Figure size 640x480 with 1 Axes>"
      ]
     },
     "metadata": {},
     "output_type": "display_data"
    }
   ],
   "source": [
    "# Detecting outliers in Magnesium column using IQR method\n",
    "plt.boxplot(data['Magnesium'])\n",
    "plt.title('Boxplot of Magnesium column')\n",
    "plt.show()"
   ]
  },
  {
   "cell_type": "code",
   "execution_count": 125,
   "id": "9375e3af",
   "metadata": {},
   "outputs": [
    {
     "name": "stdout",
     "output_type": "stream",
     "text": [
      "88.0\n",
      "98.0\n",
      "107.0\n"
     ]
    }
   ],
   "source": [
    "Q1=np.percentile(data['Magnesium'],25,interpolation='midpoint')\n",
    "Q2=np.percentile(data['Magnesium'],50,interpolation='midpoint')\n",
    "Q3=np.percentile(data['Magnesium'],75,interpolation='midpoint')\n",
    "print(Q1)\n",
    "print(Q2)\n",
    "print(Q3)"
   ]
  },
  {
   "cell_type": "code",
   "execution_count": 126,
   "id": "1626f403",
   "metadata": {},
   "outputs": [
    {
     "name": "stdout",
     "output_type": "stream",
     "text": [
      "19.0\n",
      "59.5\n",
      "135.5\n"
     ]
    }
   ],
   "source": [
    "IQR=Q3-Q1\n",
    "print(IQR)\n",
    "low_limit = Q1 - 1.5*IQR\n",
    "up_limit = Q3 + 1.5*IQR\n",
    "print(low_limit)\n",
    "print(up_limit)"
   ]
  },
  {
   "cell_type": "code",
   "execution_count": 127,
   "id": "243058fe",
   "metadata": {},
   "outputs": [],
   "source": [
    "outlier = []\n",
    "for x in data['Magnesium']:\n",
    "    if((x>up_limit) or (x<low_limit)):\n",
    "        outlier.append(x)"
   ]
  },
  {
   "cell_type": "code",
   "execution_count": 128,
   "id": "464026f7",
   "metadata": {},
   "outputs": [
    {
     "name": "stdout",
     "output_type": "stream",
     "text": [
      "Int64Index([69, 78, 95], dtype='int64')\n"
     ]
    }
   ],
   "source": [
    "# Finding the index of outliers\n",
    "ind5 =data[(data[\"Magnesium\"] > up_limit)|(data[\"Magnesium\"] < low_limit)].index \n",
    "print(ind5)\n",
    "# droping outlier values\n",
    "data.drop(ind5, inplace=True)"
   ]
  },
  {
   "cell_type": "code",
   "execution_count": 129,
   "id": "d2045a3c",
   "metadata": {},
   "outputs": [
    {
     "data": {
      "image/png": "[encoded data removed]",
      "text/plain": [
       "<Figure size 640x480 with 1 Axes>"
      ]
     },
     "metadata": {},
     "output_type": "display_data"
    }
   ],
   "source": [
    "# Detecting outliers in Proanthocyanins column using IQR method\n",
    "plt.boxplot(data['Proanthocyanins'])\n",
    "plt.title('Boxplot of Proanthocyanins column')\n",
    "plt.show()"
   ]
  },
  {
   "cell_type": "code",
   "execution_count": 130,
   "id": "fc65e1a1",
   "metadata": {},
   "outputs": [
    {
     "name": "stdout",
     "output_type": "stream",
     "text": [
      "1.25\n",
      "1.54\n",
      "1.9249999999999998\n"
     ]
    }
   ],
   "source": [
    "Q1=np.percentile(data['Proanthocyanins'],25,interpolation='midpoint')\n",
    "Q2=np.percentile(data['Proanthocyanins'],50,interpolation='midpoint')\n",
    "Q3=np.percentile(data['Proanthocyanins'],75,interpolation='midpoint')\n",
    "print(Q1)\n",
    "print(Q2)\n",
    "print(Q3)"
   ]
  },
  {
   "cell_type": "code",
   "execution_count": 131,
   "id": "88a3bc28",
   "metadata": {},
   "outputs": [
    {
     "name": "stdout",
     "output_type": "stream",
     "text": [
      "0.6749999999999998\n",
      "0.23750000000000027\n",
      "2.9374999999999996\n"
     ]
    }
   ],
   "source": [
    "IQR=Q3-Q1\n",
    "print(IQR)\n",
    "low_limit = Q1 - 1.5*IQR\n",
    "up_limit = Q3 + 1.5*IQR\n",
    "print(low_limit)\n",
    "print(up_limit)"
   ]
  },
  {
   "cell_type": "code",
   "execution_count": 132,
   "id": "f3bf79f6",
   "metadata": {},
   "outputs": [],
   "source": [
    "outlier = []\n",
    "for x in data['Proanthocyanins']:\n",
    "    if((x>up_limit) or (x<low_limit)):\n",
    "        outlier.append(x)"
   ]
  },
  {
   "cell_type": "code",
   "execution_count": 133,
   "id": "99f47c16",
   "metadata": {},
   "outputs": [
    {
     "name": "stdout",
     "output_type": "stream",
     "text": [
      "Int64Index([14, 110], dtype='int64')\n"
     ]
    }
   ],
   "source": [
    "# Finding the index of outliers\n",
    "ind6 =data[(data[\"Proanthocyanins\"] > up_limit)|(data[\"Proanthocyanins\"] < low_limit)].index \n",
    "print(ind6)\n",
    "# droping outlier values\n",
    "data.drop(ind6, inplace=True)"
   ]
  },
  {
   "cell_type": "code",
   "execution_count": 134,
   "id": "5bf4d00c",
   "metadata": {},
   "outputs": [
    {
     "data": {
      "image/png": "[encoded data removed]",
      "text/plain": [
       "<Figure size 640x480 with 1 Axes>"
      ]
     },
     "metadata": {},
     "output_type": "display_data"
    }
   ],
   "source": [
    "# Detecting outliers in Color_Intensity column using IQR method\n",
    "plt.boxplot(data['Color_Intensity'])\n",
    "plt.title('Boxplot of Color_Intensity column')\n",
    "plt.show()"
   ]
  },
  {
   "cell_type": "code",
   "execution_count": 135,
   "id": "fafc949c",
   "metadata": {},
   "outputs": [
    {
     "name": "stdout",
     "output_type": "stream",
     "text": [
      "3.27\n",
      "4.8\n",
      "6.25\n"
     ]
    }
   ],
   "source": [
    "Q1=np.percentile(data['Color_Intensity'],25,interpolation='midpoint')\n",
    "Q2=np.percentile(data['Color_Intensity'],50,interpolation='midpoint')\n",
    "Q3=np.percentile(data['Color_Intensity'],75,interpolation='midpoint')\n",
    "print(Q1)\n",
    "print(Q2)\n",
    "print(Q3)"
   ]
  },
  {
   "cell_type": "code",
   "execution_count": 136,
   "id": "53b1bcd3",
   "metadata": {},
   "outputs": [
    {
     "name": "stdout",
     "output_type": "stream",
     "text": [
      "2.98\n",
      "-1.1999999999999997\n",
      "10.719999999999999\n"
     ]
    }
   ],
   "source": [
    "IQR=Q3-Q1\n",
    "print(IQR)\n",
    "low_limit = Q1 - 1.5*IQR\n",
    "up_limit = Q3 + 1.5*IQR\n",
    "print(low_limit)\n",
    "print(up_limit)"
   ]
  },
  {
   "cell_type": "code",
   "execution_count": 137,
   "id": "0bb5ee08",
   "metadata": {},
   "outputs": [],
   "source": [
    "outlier = []\n",
    "for x in data['Color_Intensity']:\n",
    "    if((x>up_limit) or (x<low_limit)):\n",
    "        outlier.append(x)"
   ]
  },
  {
   "cell_type": "code",
   "execution_count": 138,
   "id": "16a5df54",
   "metadata": {},
   "outputs": [
    {
     "name": "stdout",
     "output_type": "stream",
     "text": [
      "Int64Index([151, 158, 159], dtype='int64')\n"
     ]
    }
   ],
   "source": [
    "# Finding the index of outliers\n",
    "ind7 =data[(data[\"Color_Intensity\"] > up_limit)|(data[\"Color_Intensity\"] < low_limit)].index \n",
    "print(ind7)\n",
    "# droping outlier values\n",
    "data.drop(ind7, inplace=True)"
   ]
  },
  {
   "cell_type": "markdown",
   "id": "08db3f5e",
   "metadata": {},
   "source": [
    "### Standard Scaling"
   ]
  },
  {
   "cell_type": "code",
   "execution_count": 139,
   "id": "cb56eb51",
   "metadata": {},
   "outputs": [],
   "source": [
    "# Performing standard scaling on data since different columns have data in different ranges\n",
    "\n",
    "from sklearn.preprocessing import StandardScaler\n",
    "stdsclr = StandardScaler()\n",
    "scaled_data = stdsclr.fit_transform(data)\n",
    "scaled_data = pd.DataFrame(scaled_data,columns = list(data))"
   ]
  },
  {
   "cell_type": "code",
   "execution_count": 140,
   "id": "e0d283f0",
   "metadata": {},
   "outputs": [
    {
     "data": {
      "text/html": [
       "<div>\n",
       "<style scoped>\n",
       "    .dataframe tbody tr th:only-of-type {\n",
       "        vertical-align: middle;\n",
       "    }\n",
       "\n",
       "    .dataframe tbody tr th {\n",
       "        vertical-align: top;\n",
       "    }\n",
       "\n",
       "    .dataframe thead th {\n",
       "        text-align: right;\n",
       "    }\n",
       "</style>\n",
       "<table border=\"1\" class=\"dataframe\">\n",
       "  <thead>\n",
       "    <tr style=\"text-align: right;\">\n",
       "      <th></th>\n",
       "      <th>Alcohol</th>\n",
       "      <th>Malic_Acid</th>\n",
       "      <th>Ash</th>\n",
       "      <th>Ash_Alcanity</th>\n",
       "      <th>Magnesium</th>\n",
       "      <th>Total_Phenols</th>\n",
       "      <th>Flavanoids</th>\n",
       "      <th>Nonflavanoid_Phenols</th>\n",
       "      <th>Proanthocyanins</th>\n",
       "      <th>Color_Intensity</th>\n",
       "      <th>Hue</th>\n",
       "      <th>OD280</th>\n",
       "      <th>Proline</th>\n",
       "    </tr>\n",
       "  </thead>\n",
       "  <tbody>\n",
       "    <tr>\n",
       "      <th>count</th>\n",
       "      <td>1.620000e+02</td>\n",
       "      <td>1.620000e+02</td>\n",
       "      <td>1.620000e+02</td>\n",
       "      <td>1.620000e+02</td>\n",
       "      <td>1.620000e+02</td>\n",
       "      <td>1.620000e+02</td>\n",
       "      <td>1.620000e+02</td>\n",
       "      <td>1.620000e+02</td>\n",
       "      <td>1.620000e+02</td>\n",
       "      <td>1.620000e+02</td>\n",
       "      <td>1.620000e+02</td>\n",
       "      <td>1.620000e+02</td>\n",
       "      <td>1.620000e+02</td>\n",
       "    </tr>\n",
       "    <tr>\n",
       "      <th>mean</th>\n",
       "      <td>1.302113e-16</td>\n",
       "      <td>7.538551e-17</td>\n",
       "      <td>-8.676187e-16</td>\n",
       "      <td>-2.782411e-16</td>\n",
       "      <td>-3.909767e-16</td>\n",
       "      <td>-6.836095e-16</td>\n",
       "      <td>-3.303256e-16</td>\n",
       "      <td>-1.713307e-16</td>\n",
       "      <td>-6.956027e-17</td>\n",
       "      <td>5.345518e-17</td>\n",
       "      <td>6.044548e-16</td>\n",
       "      <td>-3.591092e-16</td>\n",
       "      <td>4.865792e-17</td>\n",
       "    </tr>\n",
       "    <tr>\n",
       "      <th>std</th>\n",
       "      <td>1.003101e+00</td>\n",
       "      <td>1.003101e+00</td>\n",
       "      <td>1.003101e+00</td>\n",
       "      <td>1.003101e+00</td>\n",
       "      <td>1.003101e+00</td>\n",
       "      <td>1.003101e+00</td>\n",
       "      <td>1.003101e+00</td>\n",
       "      <td>1.003101e+00</td>\n",
       "      <td>1.003101e+00</td>\n",
       "      <td>1.003101e+00</td>\n",
       "      <td>1.003101e+00</td>\n",
       "      <td>1.003101e+00</td>\n",
       "      <td>1.003101e+00</td>\n",
       "    </tr>\n",
       "    <tr>\n",
       "      <th>min</th>\n",
       "      <td>-2.483944e+00</td>\n",
       "      <td>-1.500016e+00</td>\n",
       "      <td>-2.756335e+00</td>\n",
       "      <td>-2.740590e+00</td>\n",
       "      <td>-2.304379e+00</td>\n",
       "      <td>-2.081712e+00</td>\n",
       "      <td>-1.730330e+00</td>\n",
       "      <td>-1.889564e+00</td>\n",
       "      <td>-2.210335e+00</td>\n",
       "      <td>-1.732270e+00</td>\n",
       "      <td>-1.882576e+00</td>\n",
       "      <td>-1.905388e+00</td>\n",
       "      <td>-1.494188e+00</td>\n",
       "    </tr>\n",
       "    <tr>\n",
       "      <th>25%</th>\n",
       "      <td>-8.132043e-01</td>\n",
       "      <td>-6.776442e-01</td>\n",
       "      <td>-5.862114e-01</td>\n",
       "      <td>-7.140753e-01</td>\n",
       "      <td>-8.492967e-01</td>\n",
       "      <td>-9.221336e-01</td>\n",
       "      <td>-8.435216e-01</td>\n",
       "      <td>-7.393946e-01</td>\n",
       "      <td>-5.843228e-01</td>\n",
       "      <td>-8.161711e-01</td>\n",
       "      <td>-7.550316e-01</td>\n",
       "      <td>-8.726247e-01</td>\n",
       "      <td>-7.923269e-01</td>\n",
       "    </tr>\n",
       "    <tr>\n",
       "      <th>50%</th>\n",
       "      <td>4.710212e-02</td>\n",
       "      <td>-4.464264e-01</td>\n",
       "      <td>-1.512638e-02</td>\n",
       "      <td>-8.923335e-02</td>\n",
       "      <td>-8.133688e-02</td>\n",
       "      <td>8.549975e-02</td>\n",
       "      <td>1.099255e-01</td>\n",
       "      <td>-1.643099e-01</td>\n",
       "      <td>-7.161617e-02</td>\n",
       "      <td>-1.227191e-01</td>\n",
       "      <td>3.759859e-02</td>\n",
       "      <td>2.235848e-01</td>\n",
       "      <td>-2.418787e-01</td>\n",
       "    </tr>\n",
       "    <tr>\n",
       "      <th>75%</th>\n",
       "      <td>8.294822e-01</td>\n",
       "      <td>7.334990e-01</td>\n",
       "      <td>7.220925e-01</td>\n",
       "      <td>5.693838e-01</td>\n",
       "      <td>6.057851e-01</td>\n",
       "      <td>8.292291e-01</td>\n",
       "      <td>8.890865e-01</td>\n",
       "      <td>5.750847e-01</td>\n",
       "      <td>6.412902e-01</td>\n",
       "      <td>5.417423e-01</td>\n",
       "      <td>7.074269e-01</td>\n",
       "      <td>7.840263e-01</td>\n",
       "      <td>8.424571e-01</td>\n",
       "    </tr>\n",
       "    <tr>\n",
       "      <th>max</th>\n",
       "      <td>2.253975e+00</td>\n",
       "      <td>2.742948e+00</td>\n",
       "      <td>2.310747e+00</td>\n",
       "      <td>2.595898e+00</td>\n",
       "      <td>2.869246e+00</td>\n",
       "      <td>2.556601e+00</td>\n",
       "      <td>1.950181e+00</td>\n",
       "      <td>2.464649e+00</td>\n",
       "      <td>2.672585e+00</td>\n",
       "      <td>2.627896e+00</td>\n",
       "      <td>3.342085e+00</td>\n",
       "      <td>1.943682e+00</td>\n",
       "      <td>2.928325e+00</td>\n",
       "    </tr>\n",
       "  </tbody>\n",
       "</table>\n",
       "</div>"
      ],
      "text/plain": [
       "            Alcohol    Malic_Acid           Ash  Ash_Alcanity     Magnesium  \\\n",
       "count  1.620000e+02  1.620000e+02  1.620000e+02  1.620000e+02  1.620000e+02   \n",
       "mean   1.302113e-16  7.538551e-17 -8.676187e-16 -2.782411e-16 -3.909767e-16   \n",
       "std    1.003101e+00  1.003101e+00  1.003101e+00  1.003101e+00  1.003101e+00   \n",
       "min   -2.483944e+00 -1.500016e+00 -2.756335e+00 -2.740590e+00 -2.304379e+00   \n",
       "25%   -8.132043e-01 -6.776442e-01 -5.862114e-01 -7.140753e-01 -8.492967e-01   \n",
       "50%    4.710212e-02 -4.464264e-01 -1.512638e-02 -8.923335e-02 -8.133688e-02   \n",
       "75%    8.294822e-01  7.334990e-01  7.220925e-01  5.693838e-01  6.057851e-01   \n",
       "max    2.253975e+00  2.742948e+00  2.310747e+00  2.595898e+00  2.869246e+00   \n",
       "\n",
       "       Total_Phenols    Flavanoids  Nonflavanoid_Phenols  Proanthocyanins  \\\n",
       "count   1.620000e+02  1.620000e+02          1.620000e+02     1.620000e+02   \n",
       "mean   -6.836095e-16 -3.303256e-16         -1.713307e-16    -6.956027e-17   \n",
       "std     1.003101e+00  1.003101e+00          1.003101e+00     1.003101e+00   \n",
       "min    -2.081712e+00 -1.730330e+00         -1.889564e+00    -2.210335e+00   \n",
       "25%    -9.221336e-01 -8.435216e-01         -7.393946e-01    -5.843228e-01   \n",
       "50%     8.549975e-02  1.099255e-01         -1.643099e-01    -7.161617e-02   \n",
       "75%     8.292291e-01  8.890865e-01          5.750847e-01     6.412902e-01   \n",
       "max     2.556601e+00  1.950181e+00          2.464649e+00     2.672585e+00   \n",
       "\n",
       "       Color_Intensity           Hue         OD280       Proline  \n",
       "count     1.620000e+02  1.620000e+02  1.620000e+02  1.620000e+02  \n",
       "mean      5.345518e-17  6.044548e-16 -3.591092e-16  4.865792e-17  \n",
       "std       1.003101e+00  1.003101e+00  1.003101e+00  1.003101e+00  \n",
       "min      -1.732270e+00 -1.882576e+00 -1.905388e+00 -1.494188e+00  \n",
       "25%      -8.161711e-01 -7.550316e-01 -8.726247e-01 -7.923269e-01  \n",
       "50%      -1.227191e-01  3.759859e-02  2.235848e-01 -2.418787e-01  \n",
       "75%       5.417423e-01  7.074269e-01  7.840263e-01  8.424571e-01  \n",
       "max       2.627896e+00  3.342085e+00  1.943682e+00  2.928325e+00  "
      ]
     },
     "execution_count": 140,
     "metadata": {},
     "output_type": "execute_result"
    }
   ],
   "source": [
    "# Returns description of sacled data \n",
    "\n",
    "scaled_data.describe()"
   ]
  },
  {
   "cell_type": "markdown",
   "id": "db8b7947",
   "metadata": {},
   "source": [
    "### Unsupervised Learning"
   ]
  },
  {
   "cell_type": "markdown",
   "id": "c6bfe014",
   "metadata": {},
   "source": [
    "### K-Means Clustering"
   ]
  },
  {
   "cell_type": "code",
   "execution_count": 141,
   "id": "944e0a84",
   "metadata": {},
   "outputs": [
    {
     "name": "stderr",
     "output_type": "stream",
     "text": [
      "C:\\Users\\kavya\\anaconda3\\lib\\site-packages\\sklearn\\cluster\\_kmeans.py:1036: UserWarning: KMeans is known to have a memory leak on Windows with MKL, when there are less chunks than available threads. You can avoid it by setting the environment variable OMP_NUM_THREADS=1.\n",
      "  warnings.warn(\n"
     ]
    },
    {
     "data": {
      "image/png": "[encoded data removed]",
      "text/plain": [
       "<Figure size 640x480 with 1 Axes>"
      ]
     },
     "metadata": {},
     "output_type": "display_data"
    }
   ],
   "source": [
    "from sklearn.cluster import KMeans\n",
    "wcss = []\n",
    "for i in range(1,11):\n",
    "    kmeans = KMeans(n_clusters = i , init = 'k-means++',random_state = 42)\n",
    "    kmeans.fit(scaled_data)\n",
    "    wcss.append(kmeans.inertia_)\n",
    "plt.plot(range(1,11),wcss)\n",
    "plt.title('The Elbow Method')\n",
    "plt.xlabel('Number of clusters')\n",
    "plt.ylabel('WCSS')\n",
    "plt.show()"
   ]
  },
  {
   "cell_type": "markdown",
   "id": "2c135849",
   "metadata": {},
   "source": [
    "#### Cluster value of K-Means is 3 according to the graph"
   ]
  },
  {
   "cell_type": "code",
   "execution_count": 142,
   "id": "7559c757",
   "metadata": {},
   "outputs": [],
   "source": [
    "kmeans = KMeans(n_clusters = 3 , init = 'k-means++',random_state = 42)\n",
    "y_kmeans = kmeans.fit_predict(scaled_data)"
   ]
  },
  {
   "cell_type": "code",
   "execution_count": 143,
   "id": "9290b566",
   "metadata": {},
   "outputs": [
    {
     "data": {
      "text/plain": [
       "array([1, 1, 1, 1, 1, 1, 1, 1, 1, 1, 1, 1, 1, 1, 1, 1, 1, 1, 1, 1, 1, 1,\n",
       "       1, 1, 1, 1, 1, 1, 1, 1, 1, 1, 1, 1, 1, 1, 1, 1, 1, 1, 1, 1, 1, 1,\n",
       "       1, 1, 1, 1, 1, 1, 1, 1, 1, 1, 1, 1, 1, 0, 2, 0, 0, 0, 0, 0, 0, 0,\n",
       "       0, 0, 0, 0, 0, 0, 0, 0, 0, 0, 0, 2, 0, 0, 0, 0, 0, 0, 0, 0, 0, 0,\n",
       "       0, 0, 0, 0, 0, 0, 0, 0, 0, 0, 0, 0, 0, 0, 0, 0, 0, 0, 0, 0, 0, 0,\n",
       "       2, 0, 0, 0, 0, 0, 0, 0, 0, 2, 2, 2, 2, 2, 2, 2, 2, 2, 2, 2, 2, 2,\n",
       "       2, 2, 2, 2, 2, 2, 2, 2, 2, 2, 2, 2, 2, 2, 2, 2, 2, 2, 2, 2, 2, 2,\n",
       "       2, 2, 2, 2, 2, 2, 2, 2])"
      ]
     },
     "execution_count": 143,
     "metadata": {},
     "output_type": "execute_result"
    }
   ],
   "source": [
    "y_kmeans"
   ]
  },
  {
   "cell_type": "markdown",
   "id": "7d63dcba",
   "metadata": {},
   "source": [
    "#### Silhouette Score"
   ]
  },
  {
   "cell_type": "code",
   "execution_count": 144,
   "id": "d2acd760",
   "metadata": {},
   "outputs": [],
   "source": [
    "from sklearn.metrics import silhouette_score"
   ]
  },
  {
   "cell_type": "code",
   "execution_count": 145,
   "id": "f0ec3608",
   "metadata": {},
   "outputs": [],
   "source": [
    "sil_avg = silhouette_score(scaled_data,y_kmeans)"
   ]
  },
  {
   "cell_type": "code",
   "execution_count": 146,
   "id": "902f97d5",
   "metadata": {},
   "outputs": [
    {
     "data": {
      "text/plain": [
       "0.30147345842264595"
      ]
     },
     "execution_count": 146,
     "metadata": {},
     "output_type": "execute_result"
    }
   ],
   "source": [
    "sil_avg"
   ]
  },
  {
   "cell_type": "markdown",
   "id": "78665231",
   "metadata": {},
   "source": [
    "#### For K-Means clustering model,cluster value is 3 and silhouette score is 0.30147345842264595"
   ]
  },
  {
   "cell_type": "markdown",
   "id": "ee00d408",
   "metadata": {},
   "source": [
    "### Agglomerative Hierarchical Clustering"
   ]
  },
  {
   "cell_type": "code",
   "execution_count": 147,
   "id": "fbe14feb",
   "metadata": {},
   "outputs": [],
   "source": [
    "import scipy.cluster.hierarchy as sch"
   ]
  },
  {
   "cell_type": "code",
   "execution_count": 148,
   "id": "dbb44825",
   "metadata": {},
   "outputs": [
    {
     "data": {
      "image/png": "[encoded data removed]",
      "text/plain": [
       "<Figure size 640x480 with 1 Axes>"
      ]
     },
     "metadata": {},
     "output_type": "display_data"
    }
   ],
   "source": [
    "dendrogram = sch.dendrogram(sch.linkage(scaled_data,method ='ward'))\n",
    "plt.title('dendrogram')\n",
    "plt.xlabel('Customers')\n",
    "plt.ylabel('Euclidean distance')\n",
    "plt.show()"
   ]
  },
  {
   "cell_type": "markdown",
   "id": "a76cdf9d",
   "metadata": {},
   "source": [
    "#### Cluster value for Agglomerative Hierarchical Clustering is 3"
   ]
  },
  {
   "cell_type": "code",
   "execution_count": 149,
   "id": "951f49aa",
   "metadata": {},
   "outputs": [],
   "source": [
    "from sklearn.cluster import AgglomerativeClustering"
   ]
  },
  {
   "cell_type": "code",
   "execution_count": 150,
   "id": "d523ff54",
   "metadata": {},
   "outputs": [],
   "source": [
    "hc= AgglomerativeClustering(n_clusters = 3,affinity = 'euclidean',linkage = 'ward')\n",
    "y_hc = hc.fit_predict(scaled_data)"
   ]
  },
  {
   "cell_type": "code",
   "execution_count": 151,
   "id": "ac12b788",
   "metadata": {},
   "outputs": [
    {
     "data": {
      "text/plain": [
       "array([2, 2, 2, 2, 2, 2, 2, 2, 2, 2, 2, 2, 2, 2, 2, 2, 2, 2, 2, 2, 2, 2,\n",
       "       2, 2, 2, 2, 2, 2, 2, 2, 2, 2, 2, 2, 2, 2, 2, 2, 2, 2, 2, 2, 2, 2,\n",
       "       2, 2, 2, 2, 2, 2, 2, 2, 2, 2, 2, 2, 2, 1, 1, 0, 0, 0, 2, 0, 0, 1,\n",
       "       1, 0, 0, 0, 0, 0, 1, 0, 0, 0, 0, 1, 0, 0, 0, 0, 0, 0, 0, 0, 0, 0,\n",
       "       0, 1, 0, 0, 0, 0, 0, 0, 0, 0, 0, 0, 0, 0, 0, 0, 0, 0, 0, 0, 0, 0,\n",
       "       1, 0, 0, 0, 0, 0, 0, 0, 0, 1, 1, 1, 1, 1, 1, 1, 1, 1, 1, 1, 1, 1,\n",
       "       1, 1, 1, 1, 1, 1, 1, 1, 1, 1, 1, 1, 1, 1, 1, 1, 1, 1, 1, 1, 1, 1,\n",
       "       1, 1, 1, 1, 1, 1, 1, 1], dtype=int64)"
      ]
     },
     "execution_count": 151,
     "metadata": {},
     "output_type": "execute_result"
    }
   ],
   "source": [
    "y_hc"
   ]
  },
  {
   "cell_type": "markdown",
   "id": "4cb89ad4",
   "metadata": {},
   "source": [
    "#### Silhouette Score"
   ]
  },
  {
   "cell_type": "code",
   "execution_count": 152,
   "id": "47c06bf3",
   "metadata": {},
   "outputs": [],
   "source": [
    "from sklearn.metrics import silhouette_score"
   ]
  },
  {
   "cell_type": "code",
   "execution_count": 153,
   "id": "5425a589",
   "metadata": {},
   "outputs": [],
   "source": [
    "sil_avg = silhouette_score(scaled_data,y_hc)"
   ]
  },
  {
   "cell_type": "code",
   "execution_count": 154,
   "id": "bc5f3a61",
   "metadata": {},
   "outputs": [
    {
     "data": {
      "text/plain": [
       "0.29849505398402654"
      ]
     },
     "execution_count": 154,
     "metadata": {},
     "output_type": "execute_result"
    }
   ],
   "source": [
    "sil_avg"
   ]
  },
  {
   "cell_type": "markdown",
   "id": "41e67cef",
   "metadata": {},
   "source": [
    "#### For Agglomerative Hierarchical clustering model,cluster value is 3 and silhouette score is 0.29849505398402654"
   ]
  },
  {
   "cell_type": "markdown",
   "id": "62e8b3f9",
   "metadata": {},
   "source": [
    "### Computing eps and min_samples values for DBSCAN model"
   ]
  },
  {
   "cell_type": "markdown",
   "id": "a478101f",
   "metadata": {},
   "source": [
    "#### To determine the optimal ε parameter, we need to compute the k-nearest neighbor (kNN) distances (average distance of every X\n",
    "#### data point to its k-nearest neighbors) of an input dataset using the k-nearest neighbor method. For finding the\n",
    "####  k-nearest neighbor,we need to use the sklearn.neighbors.NearestNeighbors function.\n",
    "#### As there are 13 features in data,min_samples can be calculated as 2 * 13 = 26"
   ]
  },
  {
   "cell_type": "code",
   "execution_count": 155,
   "id": "b2795eb3",
   "metadata": {},
   "outputs": [],
   "source": [
    "from sklearn.neighbors import NearestNeighbors\n",
    "# n_neighbors = 27 as kneighbors function returns distance of point to itself (i.e. first column will be zeros) \n",
    "nbrs = NearestNeighbors(n_neighbors=27).fit(scaled_data)\n",
    "# Find the k-neighbors of a point\n",
    "neigh_dist, neigh_ind = nbrs.kneighbors(scaled_data)\n",
    "# sort the neighbor distances (lengths to points) in ascending order\n",
    "# axis = 0 represents sort along first axis i.e. sort along row\n",
    "sort_neigh_dist = np.sort(neigh_dist, axis=0)"
   ]
  },
  {
   "cell_type": "code",
   "execution_count": 156,
   "id": "1934ddab",
   "metadata": {},
   "outputs": [
    {
     "data": {
      "text/plain": [
       "(array([[0.        , 1.33048006, 1.64974901, ..., 2.97187579, 2.98164788,\n",
       "         3.13566894],\n",
       "        [0.        , 1.98519683, 2.45247814, ..., 3.53051535, 3.55023786,\n",
       "         3.57864248],\n",
       "        [0.        , 2.05172134, 2.15661357, ..., 3.12010816, 3.1475731 ,\n",
       "         3.21225684],\n",
       "        ...,\n",
       "        [0.        , 1.81897629, 1.93258607, ..., 3.75622292, 3.80053545,\n",
       "         3.83529916],\n",
       "        [0.        , 1.93258607, 2.41343142, ..., 3.65470208, 3.67840255,\n",
       "         3.77672981],\n",
       "        [0.        , 2.26589621, 2.49699039, ..., 3.72742149, 3.77162436,\n",
       "         3.7841956 ]]),\n",
       " array([[  0,  19,  54, ...,  40,  44,  33],\n",
       "        [  1,  36,  25, ...,  44,  38,  34],\n",
       "        [  2,  46,  49, ...,  23,  40,   9],\n",
       "        ...,\n",
       "        [159, 137, 160, ..., 120, 124, 147],\n",
       "        [160, 159, 140, ..., 144, 155, 126],\n",
       "        [161, 158, 136, ..., 159, 131, 126]], dtype=int64))"
      ]
     },
     "execution_count": 156,
     "metadata": {},
     "output_type": "execute_result"
    }
   ],
   "source": [
    "nbrs.kneighbors(scaled_data)"
   ]
  },
  {
   "cell_type": "code",
   "execution_count": 157,
   "id": "ebff3495",
   "metadata": {},
   "outputs": [
    {
     "data": {
      "image/png": "[encoded data removed]",
      "text/plain": [
       "<Figure size 640x480 with 1 Axes>"
      ]
     },
     "metadata": {},
     "output_type": "display_data"
    }
   ],
   "source": [
    "k_dist = sort_neigh_dist[:, 26]\n",
    "plt.plot(k_dist)\n",
    "plt.axhline(y=2.5, linewidth=1, linestyle='dashed', color='k')\n",
    "plt.ylabel(\"k-NN distance\")\n",
    "plt.xlabel(\"Sorted observations (26th NN)\")\n",
    "plt.show()"
   ]
  },
  {
   "cell_type": "markdown",
   "id": "9c45505d",
   "metadata": {},
   "source": [
    "### DBSCAN Clustering "
   ]
  },
  {
   "cell_type": "code",
   "execution_count": 158,
   "id": "f285ef87",
   "metadata": {},
   "outputs": [],
   "source": [
    "from sklearn.cluster import DBSCAN\n",
    "clusters = DBSCAN(eps = 2.5,min_samples = 26).fit(scaled_data)"
   ]
  },
  {
   "cell_type": "code",
   "execution_count": 159,
   "id": "d8dde076",
   "metadata": {},
   "outputs": [
    {
     "data": {
      "text/plain": [
       "array([-1, -1,  0, -1, -1,  0,  0, -1,  0,  0,  0,  0,  0, -1, -1,  0,  0,\n",
       "       -1, -1, -1, -1, -1, -1, -1, -1, -1, -1,  0,  0,  0,  0, -1,  0,  0,\n",
       "       -1, -1, -1, -1,  0, -1, -1, -1, -1, -1,  0,  0,  0,  0, -1,  0, -1,\n",
       "       -1, -1,  0,  0,  0,  0, -1, -1, -1, -1, -1, -1, -1, -1, -1, -1, -1,\n",
       "       -1, -1, -1, -1, -1, -1, -1, -1, -1, -1, -1, -1, -1, -1, -1, -1, -1,\n",
       "       -1, -1, -1, -1, -1, -1, -1, -1, -1, -1, -1, -1, -1, -1, -1, -1, -1,\n",
       "       -1, -1, -1, -1, -1, -1, -1, -1, -1, -1, -1, -1, -1, -1, -1, -1, -1,\n",
       "       -1, -1, -1, -1, -1, -1, -1, -1, -1, -1, -1, -1, -1, -1, -1, -1, -1,\n",
       "       -1, -1, -1, -1, -1, -1, -1, -1, -1, -1, -1, -1, -1, -1, -1, -1, -1,\n",
       "       -1, -1, -1, -1, -1, -1, -1, -1, -1], dtype=int64)"
      ]
     },
     "execution_count": 159,
     "metadata": {},
     "output_type": "execute_result"
    }
   ],
   "source": [
    "# get cluster labels\n",
    "clusters.labels_"
   ]
  },
  {
   "cell_type": "code",
   "execution_count": 160,
   "id": "6fc19216",
   "metadata": {},
   "outputs": [
    {
     "data": {
      "text/plain": [
       "{-1, 0}"
      ]
     },
     "execution_count": 160,
     "metadata": {},
     "output_type": "execute_result"
    }
   ],
   "source": [
    "# check unique clusters\n",
    "set(clusters.labels_)"
   ]
  },
  {
   "cell_type": "code",
   "execution_count": 161,
   "id": "65bfbe2b",
   "metadata": {},
   "outputs": [],
   "source": [
    "# -1 value represents noisy points could not be assigned to any cluster"
   ]
  },
  {
   "cell_type": "code",
   "execution_count": 162,
   "id": "a43c286d",
   "metadata": {},
   "outputs": [],
   "source": [
    "#Silhouette Score\n",
    "sil_avg = silhouette_score(scaled_data,clusters.labels_)"
   ]
  },
  {
   "cell_type": "code",
   "execution_count": 163,
   "id": "2be4e518",
   "metadata": {},
   "outputs": [
    {
     "data": {
      "text/plain": [
       "0.09074051030313186"
      ]
     },
     "execution_count": 163,
     "metadata": {},
     "output_type": "execute_result"
    }
   ],
   "source": [
    "sil_avg"
   ]
  },
  {
   "cell_type": "markdown",
   "id": "71237776",
   "metadata": {},
   "source": [
    "#### Silhouette score for DBSCAN model is 0.09074051030313186"
   ]
  },
  {
   "cell_type": "code",
   "execution_count": 165,
   "id": "59b6ef9f",
   "metadata": {},
   "outputs": [
    {
     "data": {
      "text/plain": [
       "Counter({-1: 136, 0: 26})"
      ]
     },
     "execution_count": 165,
     "metadata": {},
     "output_type": "execute_result"
    }
   ],
   "source": [
    "from collections import Counter\n",
    "Counter(clusters.labels_)"
   ]
  },
  {
   "cell_type": "markdown",
   "id": "ad04805a",
   "metadata": {},
   "source": [
    "#### DBSCAN clustering identified 2 clusters with given parameters. The largest cluster 0 has 26 data points and the smallest\n",
    "#### cluster -1 has 136 data points.\n",
    "#### -1 represents noisy cluster"
   ]
  },
  {
   "cell_type": "code",
   "execution_count": null,
   "id": "53960939",
   "metadata": {},
   "outputs": [],
   "source": []
  }
 ],
 "metadata": {
  "kernelspec": {
   "display_name": "Python 3 (ipykernel)",
   "language": "python",
   "name": "python3"
  },
  "language_info": {
   "codemirror_mode": {
    "name": "ipython",
    "version": 3
   },
   "file_extension": ".py",
   "mimetype": "text/x-python",
   "name": "python",
   "nbconvert_exporter": "python",
   "pygments_lexer": "ipython3",
   "version": "3.9.13"
  }
 },
 "nbformat": 4,
 "nbformat_minor": 5
}
